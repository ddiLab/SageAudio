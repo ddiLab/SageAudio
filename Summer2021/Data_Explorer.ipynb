{
 "cells": [
  {
   "cell_type": "markdown",
   "id": "criminal-amount",
   "metadata": {},
   "source": [
    "# Data Explorer\n",
    "In this notebook, you'll explore some of the songs you'll be training your models on.\n",
    "\n",
    "The version we're using of the dataset contains 8,000 30 second clips of songs across eight genres: electronic, experimental, folk, hiphop, instrumental, international, pop, and rock. To get an idea of what types of songs were labelled with which genre, you will use this notebook to randomly select songs from the dataset, listen to them, and see what genre they are labelled as.\n",
    "\n",
    "To use this notebook, we must first load our functions and data by running the cell below."
   ]
  },
  {
   "cell_type": "code",
   "execution_count": null,
   "id": "chubby-detroit",
   "metadata": {
    "scrolled": false
   },
   "outputs": [],
   "source": [
    "import sys\n",
    "sys.path.append('../utils')\n",
    "import data_explorer as de\n",
    "tracks, track_files, artists = de.load_tracks(\"/data/Data_Explorer/tracks.csv\", # Path to fma metadata\n",
    "                                              \"/data/Data_Explorer/fma_small/fma_small/\") # Path to fma .mp3 directory"
   ]
  },
  {
   "cell_type": "markdown",
   "id": "7554debb",
   "metadata": {},
   "source": [
    "Next, run the cell below. It will output a button that you can click to randomly select a song from among the 8000 in our dataset."
   ]
  },
  {
   "cell_type": "code",
   "execution_count": null,
   "id": "divided-worse",
   "metadata": {
    "scrolled": false
   },
   "outputs": [],
   "source": [
    "de.interface(tracks, track_files, artists)"
   ]
  }
 ],
 "metadata": {
  "kernelspec": {
   "display_name": "Python 3",
   "language": "python",
   "name": "python3"
  },
  "language_info": {
   "codemirror_mode": {
    "name": "ipython",
    "version": 3
   },
   "file_extension": ".py",
   "mimetype": "text/x-python",
   "name": "python",
   "nbconvert_exporter": "python",
   "pygments_lexer": "ipython3",
   "version": "3.9.6"
  }
 },
 "nbformat": 4,
 "nbformat_minor": 5
}
