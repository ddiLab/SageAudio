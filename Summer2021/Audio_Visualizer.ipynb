{
 "cells": [
  {
   "cell_type": "markdown",
   "id": "cbb4272e",
   "metadata": {},
   "source": [
    "# Audio Visualizer\n",
    "\n",
    "In this notebook, you will explore various different ways of visualizing sound. Waveform diagrams, spectrum diagrams, and spectrograms help us to understand sound information in a way more analogous to how computers do: data.\n",
    "\n",
    "Audio visualization can also help us better understand what makes different genres sound distinct from one another. Waveform diagrams and spectrograms can be particularly helpful in visualizing the differences between two songs of different genres.\n",
    "\n",
    "Much like in `Spotify.ipynb`, you will use this notebook to compare two different songs, or pieces of audio data. Instead of graphing the Spotify data, however, this notebook can make waveform diagrams, spectrum diagrams, and spectrograms for each of two selected audio files.\n",
    "\n",
    "To use this notebook, first run the cell below. Once again, it loads the functions used in visualizing the data as well as the audio data you'll be visualizing."
   ]
  },
  {
   "cell_type": "code",
   "execution_count": null,
   "id": "a7f70ed5",
   "metadata": {},
   "outputs": [],
   "source": [
    "from utils import audio_visualizer as av\n",
    "songs = av.find_songs(\"data/songs\") # Path to audio file directory"
   ]
  },
  {
   "cell_type": "markdown",
   "id": "e77bef20",
   "metadata": {},
   "source": [
    "After loading the data, run the next cell to begin visualizing. The first two dropdown boxes let you choose which of the loaded sound files to use. The second two boxes let you choose which type of plot you would like to make. The third two boxes let you select a shorter sample of the sound file, such as 30 seconds, 5 seconds, or 50 milliseconds. If you choose not to use the full audio file, then the shortened sample will be taken from the middle of the file.\n",
    "\n",
    "**Note**: Some plots, particularly of longer audio files, can take a few seconds to load, so make sure to wait for the graphs to update whenever you update your selection."
   ]
  },
  {
   "cell_type": "code",
   "execution_count": null,
   "id": "relevant-promise",
   "metadata": {
    "scrolled": false
   },
   "outputs": [],
   "source": [
    "av.visualizer_display(*songs)"
   ]
  }
 ],
 "metadata": {
  "kernelspec": {
   "display_name": "Python 3",
   "language": "python",
   "name": "python3"
  },
  "language_info": {
   "codemirror_mode": {
    "name": "ipython",
    "version": 3
   },
   "file_extension": ".py",
   "mimetype": "text/x-python",
   "name": "python",
   "nbconvert_exporter": "python",
   "pygments_lexer": "ipython3",
   "version": "3.9.6"
  }
 },
 "nbformat": 4,
 "nbformat_minor": 5
}
