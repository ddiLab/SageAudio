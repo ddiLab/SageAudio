{
 "cells": [
  {
   "cell_type": "markdown",
   "id": "cbb4272e",
   "metadata": {},
   "source": [
    "# Spotify.ipynb\n",
    "\n",
    "This notebook allows the user to search a portion of Spotify's database for a given song and see how Spotify defines various features for the song.\n",
    "\n",
    "To use, run each cell, then utilize the widgets that the last cell displays to search for songs.\n",
    "\n",
    "Future tasks:\n",
    "- Document code\n",
    "- Abstract functions away, probably in some sort of utils.py file\n",
    "- Some ways to improve the search feature - more lenient search, search by artist, plot two songs together to compare, etc."
   ]
  },
  {
   "cell_type": "code",
   "execution_count": null,
   "id": "missing-florist",
   "metadata": {},
   "outputs": [],
   "source": [
    "import numpy as np\n",
    "import pandas as pd\n",
    "import matplotlib.pyplot as plt\n",
    "import ipywidgets as widgets\n",
    "from ipywidgets import interact, interactive, fixed, interact_manual\n",
    "import IPython.display as ipy"
   ]
  },
  {
   "cell_type": "code",
   "execution_count": null,
   "id": "executive-survival",
   "metadata": {},
   "outputs": [],
   "source": [
    "def format_artist(artist):\n",
    "    return (artist[2:-2].replace(\"\\'\", \"\")).title()"
   ]
  },
  {
   "cell_type": "code",
   "execution_count": null,
   "id": "terminal-asian",
   "metadata": {},
   "outputs": [],
   "source": [
    "def select_artist(artists, results):\n",
    "    artistnames = np.empty_like(artists, dtype=tuple)\n",
    "    cnt = 0\n",
    "    for i in artists:\n",
    "        artistnames[cnt] = (format_artist(i), cnt)\n",
    "        cnt += 1\n",
    "    \n",
    "    interact(plot_song, results=fixed(results), Artist=artistnames);"
   ]
  },
  {
   "cell_type": "code",
   "execution_count": null,
   "id": "visible-flesh",
   "metadata": {},
   "outputs": [],
   "source": [
    "def plot_song(results, Artist):\n",
    "    fig, ax = plt.subplots()\n",
    "\n",
    "    stats = ('Danceability', 'Energy', 'Speechiness', 'Acousticness', 'Instrumentalness', 'Liveness', 'Valence')\n",
    "    values = results.loc[:, ['danceability', 'energy', 'speechiness', 'acousticness', 'instrumentalness', 'liveness', 'valence']]\n",
    "    values = values.iloc[Artist]\n",
    "    titlestring = \"\\\"\" + (results.iloc[Artist, 1]).title() + \"\\\" by \" + ((results.iloc[Artist, 5])[2:-2].replace(\"\\'\", \"\")).title()\n",
    "\n",
    "    ax.barh(stats, values)\n",
    "    ax.invert_yaxis()\n",
    "    ax.set_xlabel('Values')\n",
    "    ax.set_xlim(left=0.0, right=1.0)\n",
    "    ax.set_title(titlestring)\n",
    "\n",
    "    plt.show()"
   ]
  },
  {
   "cell_type": "code",
   "execution_count": null,
   "id": "stuck-former",
   "metadata": {},
   "outputs": [],
   "source": [
    "# Query functions\n",
    "def submit_query(param):\n",
    "    ipy.clear_output()\n",
    "    display(songinput)\n",
    "    display(button)\n",
    "    process_query(songinput.value)\n",
    "\n",
    "def process_query(query):\n",
    "    # Lower input\n",
    "    name = query.lower()\n",
    "\n",
    "    # Lower track names\n",
    "    lowernames = tracks[\"name\"]\n",
    "    lowernames = lowernames.str.lower()\n",
    "    tracks[\"name\"] = lowernames\n",
    "\n",
    "    # Lower artist names\n",
    "    lowerartists = tracks[\"artists\"]\n",
    "    lowerartists = lowerartists.str.lower()\n",
    "    tracks[\"artists\"] = lowerartists\n",
    "\n",
    "    # Search query\n",
    "    songresults = tracks[tracks[\"name\"] == name]\n",
    "    artistlist = songresults[\"artists\"]\n",
    "\n",
    "    # Check artist count\n",
    "    if len(songresults[\"artists\"]) > 1:\n",
    "        print(\"Multiple results found. Select an artist:\")\n",
    "        select_artist(artistlist, songresults)\n",
    "    elif len(songresults[\"artists\"]) < 1:\n",
    "        print(\"No results found.\")\n",
    "    else: \n",
    "        plot_song(songresults, 0)"
   ]
  },
  {
   "cell_type": "code",
   "execution_count": null,
   "id": "quiet-sense",
   "metadata": {},
   "outputs": [],
   "source": [
    "# Query widgets\n",
    "songinput = widgets.Text(\n",
    "    description='Song title:',\n",
    "    disabled=False\n",
    ")\n",
    "\n",
    "button = widgets.Button(\n",
    "    description='Search',\n",
    "    disabled=False,\n",
    "    tooltip='Search',\n",
    ")"
   ]
  },
  {
   "cell_type": "code",
   "execution_count": null,
   "id": "ranging-background",
   "metadata": {},
   "outputs": [],
   "source": [
    "# Open data\n",
    "tracks = pd.read_csv(\"data/tracks.csv\")"
   ]
  },
  {
   "cell_type": "code",
   "execution_count": null,
   "id": "irish-tract",
   "metadata": {},
   "outputs": [],
   "source": [
    "display(songinput, button)\n",
    "button.on_click(submit_query)"
   ]
  },
  {
   "cell_type": "code",
   "execution_count": null,
   "id": "a7f70ed5",
   "metadata": {},
   "outputs": [],
   "source": []
  }
 ],
 "metadata": {
  "kernelspec": {
   "display_name": "Python 3",
   "language": "python",
   "name": "python3"
  },
  "language_info": {
   "codemirror_mode": {
    "name": "ipython",
    "version": 3
   },
   "file_extension": ".py",
   "mimetype": "text/x-python",
   "name": "python",
   "nbconvert_exporter": "python",
   "pygments_lexer": "ipython3",
   "version": "3.8.8"
  }
 },
 "nbformat": 4,
 "nbformat_minor": 5
}
