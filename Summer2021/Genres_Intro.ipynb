{
 "cells": [
  {
   "cell_type": "markdown",
   "id": "34185298",
   "metadata": {},
   "source": [
    "# Introduction to Genre Classification\n",
    "\n",
    "In this notebook, you'll create a machine learning model to classify the music genre of songs. The cells below will take you step by step through the process of building, training, and evaluating your first model.\n",
    "\n",
    "To begin, run the cell below. As always, this first cell loads the function and data necessary to run our code."
   ]
  },
  {
   "cell_type": "code",
   "execution_count": null,
   "id": "pointed-foundation",
   "metadata": {},
   "outputs": [],
   "source": [
    "import sys\n",
    "sys.path.append('../utils')\n",
    "import genres_intro as gs\n",
    "\n",
    "artists, tracks, data = gs.load_metadata('data/Genres_Intro/tracks.csv') # Path to fma metadata\n",
    "features = gs.load_features('data/Genres_Intro/fma_small.csv', data) # Path to fma features"
   ]
  },
  {
   "cell_type": "markdown",
   "id": "b6e9b276",
   "metadata": {},
   "source": [
    "Before we can make our model, we need data to train it on. We've provided you with eight different datasets to choose from \n",
    "to train your model. Run the cell below, then use the dropdown box to select which dataset you would like to use."
   ]
  },
  {
   "cell_type": "code",
   "execution_count": null,
   "id": "ad2e95d3",
   "metadata": {},
   "outputs": [],
   "source": [
    "dataset = gs.select_dataset()"
   ]
  },
  {
   "cell_type": "markdown",
   "id": "762d7588",
   "metadata": {},
   "source": [
    "Now that we have a dataset, we can move forward with creating our model. The cell below accomplishes three main tasks:\n",
    "1. It **preprocesses the dataset**, splitting it into a subset used to train the model and a test subset for the model to make predictions on once fully trained.\n",
    "2. It **builds the model**, preparing the structure of the model so it can begin training.\n",
    "3. It **trains the model on the dataset** so that it can start to learn how to distinguish music genres.\n",
    "\n",
    "In the future, you'll be exploring some of the different parameters of these processes so you can see how they impact model performance. For now, though, all you need to do is the run the cell below and it'll take care of these processes for you.\n",
    "\n",
    "When you run the cell below, once the model begins training, it will start giving you feedback on its process - you'll be able to watch its progress as it learns! For each step of the learning process (called an **epoch**), the model will give you two metrics that measure its success: loss and accuracy. **Loss** is a way of describing how wrong the model's guesses are. **Accuracy** describes how often the model guesses the correct genre during training.\n",
    "\n",
    "Keep in mind when running the cell below that **training a model is an intensive task**, and so it may take a minute for it to get going."
   ]
  },
  {
   "cell_type": "code",
   "execution_count": null,
   "id": "remarkable-malpractice",
   "metadata": {},
   "outputs": [],
   "source": [
    "train_data, test_data, encoder = gs.preprocessing(features, dataset.value)\n",
    "model = gs.build_model(train_data, 4)\n",
    "gs.train_model(model, train_data)"
   ]
  },
  {
   "cell_type": "markdown",
   "id": "d7429b9a",
   "metadata": {},
   "source": [
    "Once the model has finished training, we can evaluate its progress by having it make predictions on the test set of data.\n",
    "\n",
    "Run the cell below to see how your model performs. First, it'll show you its overall loss and accuracy statistics from the predictions it made on the test set. Then, it'll show you information on the first 10 predictions it made, including the genre it predicted, its confidence in making that prediction, and whether the prediction was correct or incorrect. While the test set consits of several hundred songs in total, seeing this small selection of predictions should give you an idea of how your model performed."
   ]
  },
  {
   "cell_type": "code",
   "execution_count": null,
   "id": "gorgeous-python",
   "metadata": {},
   "outputs": [],
   "source": [
    "gs.test_model(model, test_data, encoder)"
   ]
  },
  {
   "cell_type": "code",
   "execution_count": null,
   "id": "bfc20ecf",
   "metadata": {},
   "outputs": [],
   "source": []
  }
 ],
 "metadata": {
  "kernelspec": {
   "display_name": "Python 3",
   "language": "python",
   "name": "python3"
  },
  "language_info": {
   "codemirror_mode": {
    "name": "ipython",
    "version": 3
   },
   "file_extension": ".py",
   "mimetype": "text/x-python",
   "name": "python",
   "nbconvert_exporter": "python",
   "pygments_lexer": "ipython3",
   "version": "3.9.6"
  }
 },
 "nbformat": 4,
 "nbformat_minor": 5
}
