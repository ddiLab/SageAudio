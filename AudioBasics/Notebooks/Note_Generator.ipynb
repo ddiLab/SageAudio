{
 "cells": [
  {
   "cell_type": "code",
   "execution_count": 1,
   "id": "coated-alberta",
   "metadata": {},
   "outputs": [],
   "source": [
    "import thinkdsp as dsp\n",
    "from ipywidgets import interact, interactive, fixed, interact_manual\n",
    "import ipywidgets as widgets"
   ]
  },
  {
   "cell_type": "code",
   "execution_count": 2,
   "id": "transsexual-tomorrow",
   "metadata": {},
   "outputs": [],
   "source": [
    "### Definitions ###\n",
    "# Assigning each wave shape to an int value\n",
    "wave_table = [('Sine', 1), ('Triangle', 2), ('Square', 3), ('Sawtooth', 4)]\n",
    "\n",
    "# Assigning each pitch class name to the corresponding frequency at octave 0\n",
    "pitch_table = [('C', 16.35), ('C#', 17.32), ('D', 18.35), ('D#', 19.45), ('E', 20.60), ('F', 21.83), \n",
    "               ('F#', 23.12), ('G', 24.50), ('G#', 25.96), ('A', 27.50), ('A#', 29.14), ('B', 30.87)]\n",
    "\n",
    "### build_note ###\n",
    "# Builds a simple wave from a set of parameters.\n",
    "#\n",
    "# @param Wave - What type of waveform to build - sine, triangle, square, or sawtooth\n",
    "# @param Pitch - What pitch class to build the wave at; determines frequency along with Octave param\n",
    "# @param Octave - What octave to build the wave at; determines frequency along with Pitch param\n",
    "# @param Duration - The length, in seconds, of the wave\n",
    "# @param On - Passed in as a boolean and assigend to amplitude as a way of muting particular waves.\n",
    "#\n",
    "# @return - the completed wave\n",
    "def build_note(Wave, Pitch, Octave, Duration, On):\n",
    "    inp_freq = Pitch * (2 ** (Octave))\n",
    "    inp_amp = On / 2\n",
    "    \n",
    "    if Wave == 2:\n",
    "        signal = dsp.TriangleSignal(freq=inp_freq, amp=inp_amp, offset=0)\n",
    "    elif Wave == 3:\n",
    "        signal = dsp.SquareSignal(freq=inp_freq, amp=inp_amp, offset=0)\n",
    "    elif Wave == 4:\n",
    "        signal = dsp.SawtoothSignal(freq=inp_freq, amp=inp_amp, offset=0)\n",
    "    else:\n",
    "        signal = dsp.SinSignal(freq=inp_freq, amp=inp_amp, offset=0)\n",
    "\n",
    "    wave = signal.make_wave(duration=Duration, start=0, framerate=44100)\n",
    "    return wave\n",
    "\n",
    "### chord_interact ###\n",
    "# Builds a set of notes according to user input, combines them, and outputs\n",
    "# an audio widget and, optionally, a graph of the wave or its spectrum\n",
    "#\n",
    "# @param Wave(1-4) - wave type\n",
    "# @param Pitch(1-4) - pitch class\n",
    "# @param Octave(1-4) - octave\n",
    "# @param On(1-4) - allows for muting particular notes\n",
    "# @param Duration - one duration value is accepted for all four notes\n",
    "# @param Plot_Wave - boolean option for plotting the wave\n",
    "# @param Plot_Spectrum - boolean option for plotting the wave's spectrum\n",
    "#\n",
    "# @note - Duration of 0 makes ThinkDSP complain, but it works as intended\n",
    "# @note - Cannot plot both the wave and its spectrum at once - potential issue to resolve\n",
    "def chord_interact(Wave1, Pitch1, Octave1, On1,\n",
    "                   Wave2, Pitch2, Octave2, On2,\n",
    "                   Wave3, Pitch3, Octave3, On3,\n",
    "                   Wave4, Pitch4, Octave4, On4,\n",
    "                   Duration, Plot_Wave, Plot_Spectrum):\n",
    "    note1 = build_note(Wave1, Pitch1, Octave1, Duration, On1)\n",
    "    note2 = build_note(Wave2, Pitch2, Octave2, Duration, On2)\n",
    "    note3 = build_note(Wave3, Pitch3, Octave3, Duration, On3)\n",
    "    note4 = build_note(Wave4, Pitch4, Octave4, Duration, On4)\n",
    "    \n",
    "    chord = note1 + note2 + note3 + note4\n",
    "    chord.normalize()\n",
    "    \n",
    "    segment = chord.segment(start=0, duration=0.1)\n",
    "    spectrum = chord.make_spectrum()\n",
    "\n",
    "    if Plot_Spectrum == True:\n",
    "        spectrum.plot()\n",
    "        dsp.decorate(xlabel='Frequency (Hz)')\n",
    "    elif Plot_Wave == True:\n",
    "        segment.plot()\n",
    "        dsp.decorate(xlabel='Time (s)')\n",
    "        \n",
    "    chord.apodize()\n",
    "    audio = chord.make_audio()\n",
    "    display(audio)"
   ]
  },
  {
   "cell_type": "code",
   "execution_count": 3,
   "id": "macro-disability",
   "metadata": {
    "scrolled": false
   },
   "outputs": [
    {
     "name": "stdout",
     "output_type": "stream",
     "text": [
      "Note 1:\n"
     ]
    },
    {
     "data": {
      "application/vnd.jupyter.widget-view+json": {
       "model_id": "ab04b9aad1d54926ad8352e03532fdfe",
       "version_major": 2,
       "version_minor": 0
      },
      "text/plain": [
       "HBox(children=(Dropdown(options=(('Sine', 1), ('Triangle', 2), ('Square', 3), ('Sawtooth', 4)), value=1), Drop…"
      ]
     },
     "metadata": {},
     "output_type": "display_data"
    },
    {
     "name": "stdout",
     "output_type": "stream",
     "text": [
      "Note 2:\n"
     ]
    },
    {
     "data": {
      "application/vnd.jupyter.widget-view+json": {
       "model_id": "4a3131c264ad4c35bd90ee2ada97d1a5",
       "version_major": 2,
       "version_minor": 0
      },
      "text/plain": [
       "HBox(children=(Dropdown(options=(('Sine', 1), ('Triangle', 2), ('Square', 3), ('Sawtooth', 4)), value=1), Drop…"
      ]
     },
     "metadata": {},
     "output_type": "display_data"
    },
    {
     "name": "stdout",
     "output_type": "stream",
     "text": [
      "Note 3:\n"
     ]
    },
    {
     "data": {
      "application/vnd.jupyter.widget-view+json": {
       "model_id": "f6556c6b669d43a1a8e1a2dea3baaa21",
       "version_major": 2,
       "version_minor": 0
      },
      "text/plain": [
       "HBox(children=(Dropdown(options=(('Sine', 1), ('Triangle', 2), ('Square', 3), ('Sawtooth', 4)), value=1), Drop…"
      ]
     },
     "metadata": {},
     "output_type": "display_data"
    },
    {
     "name": "stdout",
     "output_type": "stream",
     "text": [
      "Note 4:\n"
     ]
    },
    {
     "data": {
      "application/vnd.jupyter.widget-view+json": {
       "model_id": "cc6b9493c4d74d4b8fac6593ac3ff7e7",
       "version_major": 2,
       "version_minor": 0
      },
      "text/plain": [
       "HBox(children=(Dropdown(options=(('Sine', 1), ('Triangle', 2), ('Square', 3), ('Sawtooth', 4)), value=1), Drop…"
      ]
     },
     "metadata": {},
     "output_type": "display_data"
    },
    {
     "data": {
      "application/vnd.jupyter.widget-view+json": {
       "model_id": "12c2bcca917a485badf69702b83ecb72",
       "version_major": 2,
       "version_minor": 0
      },
      "text/plain": [
       "HBox(children=(FloatSlider(value=1.0, description='Duration:', max=4.0, step=0.25), Checkbox(value=False, desc…"
      ]
     },
     "metadata": {},
     "output_type": "display_data"
    },
    {
     "data": {
      "application/vnd.jupyter.widget-view+json": {
       "model_id": "e279902b5228418fbd8d7b39854d2e73",
       "version_major": 2,
       "version_minor": 0
      },
      "text/plain": [
       "Output()"
      ]
     },
     "metadata": {},
     "output_type": "display_data"
    }
   ],
   "source": [
    "### Build widgets ###\n",
    "# Wave dropdowns\n",
    "Wave_1 = widgets.Dropdown(options=wave_table)\n",
    "Wave_2 = widgets.Dropdown(options=wave_table)\n",
    "Wave_3 = widgets.Dropdown(options=wave_table)\n",
    "Wave_4 = widgets.Dropdown(options=wave_table)\n",
    "\n",
    "# Pitch dropdowns\n",
    "Pitch_1 = widgets.Dropdown(options=pitch_table)\n",
    "Pitch_2 = widgets.Dropdown(options=pitch_table)\n",
    "Pitch_3 = widgets.Dropdown(options=pitch_table)\n",
    "Pitch_4 = widgets.Dropdown(options=pitch_table)\n",
    "\n",
    "# Octave slider\n",
    "Octave_1 = widgets.IntSlider(min=0, max=8, description='Octave:', value=4)\n",
    "Octave_2 = widgets.IntSlider(min=0, max=8, description='Octave:', value=4)\n",
    "Octave_3 = widgets.IntSlider(min=0, max=8, description='Octave:', value=4)\n",
    "Octave_4 = widgets.IntSlider(min=0, max=8, description='Octave:', value=4)\n",
    "\n",
    "# On checkboxes\n",
    "On_1 = widgets.Checkbox(value=True, description='On')\n",
    "On_2 = widgets.Checkbox(value=True, description='On')\n",
    "On_3 = widgets.Checkbox(value=False, description='On')\n",
    "On_4 = widgets.Checkbox(value=False, description='On')\n",
    "\n",
    "# Duration slider and plot checkboxes\n",
    "Duration = widgets.FloatSlider(min=0, max=4, step=0.25, value=1.00, description='Duration:')\n",
    "Plot_Spectrum = widgets.Checkbox(value=False, description='Plot Spectrum')\n",
    "Plot_Wave = widgets.Checkbox(value=False, description='Plot Wave')\n",
    "\n",
    "# Put widgets into boxes\n",
    "ui1 = widgets.HBox([Wave_1, Pitch_1, Octave_1, On_1])\n",
    "ui2 = widgets.HBox([Wave_2, Pitch_2, Octave_2, On_2])\n",
    "ui3 = widgets.HBox([Wave_3, Pitch_3, Octave_3, On_3])\n",
    "ui4 = widgets.HBox([Wave_4, Pitch_4, Octave_4, On_4])\n",
    "ui5 = widgets.HBox([Duration, Plot_Wave, Plot_Spectrum])\n",
    "\n",
    "# Output\n",
    "print(\"Note 1:\")\n",
    "display(ui1)\n",
    "print(\"Note 2:\")\n",
    "display(ui2)\n",
    "print(\"Note 3:\")\n",
    "display(ui3)\n",
    "print(\"Note 4:\")\n",
    "display(ui4, ui5)\n",
    "out = widgets.interactive_output(chord_interact, {'Wave1': Wave_1, 'Pitch1': Pitch_1, 'Octave1': Octave_1, 'On1': On_1, \n",
    "                                                  'Wave2': Wave_2, 'Pitch2': Pitch_2, 'Octave2': Octave_2, 'On2': On_2,\n",
    "                                                  'Wave3': Wave_3, 'Pitch3': Pitch_3, 'Octave3': Octave_3, 'On3': On_3,\n",
    "                                                  'Wave4': Wave_4, 'Pitch4': Pitch_4, 'Octave4': Octave_4, 'On4': On_4,\n",
    "                                                  'Duration': Duration, 'Plot_Wave': Plot_Wave, \n",
    "                                                  'Plot_Spectrum': Plot_Spectrum})\n",
    "display(out)"
   ]
  },
  {
   "cell_type": "code",
   "execution_count": null,
   "id": "simplified-pillow",
   "metadata": {},
   "outputs": [],
   "source": []
  }
 ],
 "metadata": {
  "kernelspec": {
   "display_name": "Python 3",
   "language": "python",
   "name": "python3"
  },
  "language_info": {
   "codemirror_mode": {
    "name": "ipython",
    "version": 3
   },
   "file_extension": ".py",
   "mimetype": "text/x-python",
   "name": "python",
   "nbconvert_exporter": "python",
   "pygments_lexer": "ipython3",
   "version": "3.8.8"
  }
 },
 "nbformat": 4,
 "nbformat_minor": 5
}
