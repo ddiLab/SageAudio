{
 "cells": [
  {
   "cell_type": "code",
   "execution_count": null,
   "id": "pointed-foundation",
   "metadata": {},
   "outputs": [],
   "source": [
    "from utils import genres as ds\n",
    "\n",
    "artists, tracks, trim_tracks = ds.load_metadata('data/fma_tracks.csv') # Path to fma metadata\n",
    "full_features = ds.load_features('data/fma_features.csv', trim_tracks) # Path to fma features"
   ]
  },
  {
   "cell_type": "code",
   "execution_count": null,
   "id": "completed-marina",
   "metadata": {},
   "outputs": [],
   "source": [
    "data = ds.display_dataset(trim_tracks)"
   ]
  },
  {
   "cell_type": "code",
   "execution_count": null,
   "id": "paperback-awareness",
   "metadata": {},
   "outputs": [],
   "source": [
    "features = ds.display_features(trim_tracks, data.result, full_features)"
   ]
  },
  {
   "cell_type": "code",
   "execution_count": null,
   "id": "597c1cbb",
   "metadata": {},
   "outputs": [],
   "source": [
    "training, validation, test = ds.select_split()"
   ]
  },
  {
   "cell_type": "code",
   "execution_count": null,
   "id": "respective-harris",
   "metadata": {},
   "outputs": [],
   "source": [
    "layers, epochs = ds.select_model()"
   ]
  },
  {
   "cell_type": "code",
   "execution_count": null,
   "id": "remarkable-malpractice",
   "metadata": {},
   "outputs": [],
   "source": [
    "train_data, test_data = ds.preprocessing(features.result, test.value)\n",
    "model = ds.build_model(train_data, layers.value)\n",
    "ds.train_model(model, train_data, epochs.value, validation.value)"
   ]
  },
  {
   "cell_type": "code",
   "execution_count": null,
   "id": "gorgeous-python",
   "metadata": {},
   "outputs": [],
   "source": [
    "ds.test_model(model, test_data)"
   ]
  }
 ],
 "metadata": {
  "kernelspec": {
   "display_name": "Python 3",
   "language": "python",
   "name": "python3"
  },
  "language_info": {
   "codemirror_mode": {
    "name": "ipython",
    "version": 3
   },
   "file_extension": ".py",
   "mimetype": "text/x-python",
   "name": "python",
   "nbconvert_exporter": "python",
   "pygments_lexer": "ipython3",
   "version": "3.8.8"
  }
 },
 "nbformat": 4,
 "nbformat_minor": 5
}
