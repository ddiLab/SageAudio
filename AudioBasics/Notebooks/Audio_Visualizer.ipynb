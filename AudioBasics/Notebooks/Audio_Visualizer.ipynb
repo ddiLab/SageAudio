{
 "cells": [
  {
   "cell_type": "markdown",
   "id": "cbb4272e",
   "metadata": {},
   "source": [
    "# Audio_Visualizer.ipynb"
   ]
  },
  {
   "cell_type": "code",
   "execution_count": 1,
   "id": "missing-florist",
   "metadata": {},
   "outputs": [],
   "source": [
    "import numpy as np\n",
    "import scipy as sp\n",
    "import pandas as pd\n",
    "import matplotlib.pyplot as plt\n",
    "import ipywidgets as widgets\n",
    "from ipywidgets import interact, interactive, fixed, interact_manual\n",
    "import IPython.display as ipy\n",
    "import os\n",
    "import pathlib\n",
    "import librosa\n",
    "from librosa import display as lbdis"
   ]
  },
  {
   "cell_type": "code",
   "execution_count": 2,
   "id": "a7f70ed5",
   "metadata": {},
   "outputs": [
    {
     "name": "stderr",
     "output_type": "stream",
     "text": [
      "C:\\Users\\redem\\anaconda3\\envs\\audiobasics\\lib\\site-packages\\librosa\\core\\audio.py:162: UserWarning: PySoundFile failed. Trying audioread instead.\n",
      "  warnings.warn(\"PySoundFile failed. Trying audioread instead.\")\n",
      "C:\\Users\\redem\\anaconda3\\envs\\audiobasics\\lib\\site-packages\\librosa\\core\\audio.py:162: UserWarning: PySoundFile failed. Trying audioread instead.\n",
      "  warnings.warn(\"PySoundFile failed. Trying audioread instead.\")\n"
     ]
    }
   ],
   "source": [
    "# Establish input directory\n",
    "input_dir = pathlib.Path('songs')\n",
    "if not input_dir.exists():\n",
    "    os.mkdir('songs')\n",
    "    \n",
    "# Search directory and make libraries\n",
    "input_content = os.listdir(input_dir)\n",
    "song_waves = np.empty_like(input_content, dtype=np.ndarray)\n",
    "song_names = np.empty_like(input_content)\n",
    "song_box = np.empty_like(input_content, dtype=tuple)\n",
    "\n",
    "cnt = 0\n",
    "for i in input_content:\n",
    "    song_waves[cnt], sr = librosa.load(f'songs/{i}')\n",
    "    song_names[cnt] = i[:-4]\n",
    "    song_box[cnt] = (i[:-4], cnt)\n",
    "    cnt += 1"
   ]
  },
  {
   "cell_type": "code",
   "execution_count": 4,
   "id": "proof-walnut",
   "metadata": {},
   "outputs": [],
   "source": [
    "def select_options(Song, Plot, Length):\n",
    "    if Length == \"Full song\":\n",
    "        if Plot == \"Wave\":\n",
    "            plot_wave(song_waves[Song])\n",
    "        elif Plot == \"Spectrum\":\n",
    "            plot_spectrum(song_waves[Song])\n",
    "        elif Plot == \"Spectrogram\":\n",
    "            plot_spectrogram(song_waves[Song])           \n",
    "    else:\n",
    "        if Length == \"30 seconds\":\n",
    "            gen_length = 30 * sr\n",
    "        if Length == \"5 seconds\":\n",
    "            gen_length = 5 * sr\n",
    "        if Length == \"50 milliseconds\":\n",
    "            gen_length = int(0.05 * sr)\n",
    "            \n",
    "        start_length = 30 * sr\n",
    "        if gen_length < len(song_waves[Song]):\n",
    "            wave_crop = song_waves[Song]\n",
    "            wave_crop = wave_crop[(int(len(wave_crop)/2)-int(gen_length/2)):(int(len(wave_crop)/2)+int(gen_length/2))]\n",
    "            if Plot == \"Wave\":\n",
    "                plot_wave(wave_crop)\n",
    "            elif Plot == \"Spectrum\":\n",
    "                plot_spectrum(wave_crop)\n",
    "            elif Plot == \"Spectrogram\":\n",
    "                plot_spectrogram(wave_crop) \n",
    "        else:\n",
    "            select_options(Song, Plot, \"Full song\")\n",
    "            \n",
    "def plot_wave(wave):\n",
    "    plt.figure(figsize=(18,6))\n",
    "    lbdis.waveplot(wave, alpha=0.5)\n",
    "\n",
    "def plot_spectrum(wave):\n",
    "    # derive spectrum using FT\n",
    "    ft = sp.fft.fft(wave)\n",
    "    magnitude = np.absolute(ft)\n",
    "    frequency = np.linspace(0, sr, len(magnitude))\n",
    "\n",
    "    # plot spectrum\n",
    "    plt.figure(figsize=(18,6))\n",
    "    plt.plot(frequency[:(int(len(frequency)/2))], magnitude[:(int(len(magnitude)/2))]) # magnitude spectrum\n",
    "    plt.xlabel(\"Frequency (Hz)\")\n",
    "    plt.ylabel(\"Magnitude\")\n",
    "    plt.show()\n",
    "\n",
    "def plot_spectrogram(wave):\n",
    "    D = librosa.stft(wave)  # STFT of y\n",
    "    S_db = librosa.amplitude_to_db(np.abs(D), ref=np.max)\n",
    "    plt.figure(figsize=(18,6))\n",
    "    lbdis.specshow(S_db, x_axis='s')\n",
    "    plt.colorbar()\n",
    "    \n",
    "def option_interact(song1, song2, plot1, plot2, length1, length2):\n",
    "    plot1 = select_options(song1, plot1, length1)\n",
    "    plot2 = select_options(song2, plot2, length2)\n",
    "    \n",
    "    \n",
    "plot_box = [\"Wave\", \"Spectrum\", \"Spectrogram\"]\n",
    "length_box = [\"Full song\", \"30 seconds\", \"5 seconds\", \"50 milliseconds\"]\n",
    "song2_box = np.array(([\"\"]))\n",
    "song2_box = np.concatenate((song2_box, song_box))"
   ]
  },
  {
   "cell_type": "code",
   "execution_count": 5,
   "id": "relevant-promise",
   "metadata": {},
   "outputs": [
    {
     "name": "stderr",
     "output_type": "stream",
     "text": [
      "C:\\Users\\redem\\anaconda3\\envs\\audiobasics\\lib\\site-packages\\traitlets\\traitlets.py:586: FutureWarning: elementwise comparison failed; returning scalar instead, but in the future will perform elementwise comparison\n",
      "  silent = bool(old_value == new_value)\n"
     ]
    },
    {
     "data": {
      "application/vnd.jupyter.widget-view+json": {
       "model_id": "12be50041cf847eba022c8b3db6ec998",
       "version_major": 2,
       "version_minor": 0
      },
      "text/plain": [
       "HBox(children=(Dropdown(description='Songs: ', options=(('000002', 0), ('000005', 1), ('000010', 2), ('000140'…"
      ]
     },
     "metadata": {},
     "output_type": "display_data"
    },
    {
     "data": {
      "application/vnd.jupyter.widget-view+json": {
       "model_id": "b98eea950b2b4a80b0319aa8d89cedc4",
       "version_major": 2,
       "version_minor": 0
      },
      "text/plain": [
       "HBox(children=(Dropdown(description='Plots: ', options=('Wave', 'Spectrum', 'Spectrogram'), value='Wave'), Dro…"
      ]
     },
     "metadata": {},
     "output_type": "display_data"
    },
    {
     "data": {
      "application/vnd.jupyter.widget-view+json": {
       "model_id": "e6b3f1432a4144428f93971f2379c93d",
       "version_major": 2,
       "version_minor": 0
      },
      "text/plain": [
       "HBox(children=(Dropdown(description='Length: ', options=('Full song', '30 seconds', '5 seconds', '50 milliseco…"
      ]
     },
     "metadata": {},
     "output_type": "display_data"
    },
    {
     "data": {
      "application/vnd.jupyter.widget-view+json": {
       "model_id": "0b3c3ed697f54f6aae8693cb5bf9d4bb",
       "version_major": 2,
       "version_minor": 0
      },
      "text/plain": [
       "Output()"
      ]
     },
     "metadata": {},
     "output_type": "display_data"
    }
   ],
   "source": [
    "# build widget ui\n",
    "song1 = widgets.Dropdown(options=song_box, description=\"Songs: \")\n",
    "song2 = widgets.Dropdown(options=song_box)\n",
    "song_ui = widgets.HBox([song1, song2])\n",
    "display(song_ui)\n",
    "\n",
    "plot1 = widgets.Dropdown(options=plot_box, description=\"Plots: \")\n",
    "plot2 = widgets.Dropdown(options=plot_box)\n",
    "plot_ui = widgets.HBox([plot1, plot2])\n",
    "display(plot_ui)\n",
    "\n",
    "length1 = widgets.Dropdown(options=length_box, description=\"Length: \")\n",
    "length2 = widgets.Dropdown(options=length_box)\n",
    "length_ui = widgets.HBox([length1, length2])\n",
    "display(length_ui)\n",
    "\n",
    "out = widgets.interactive_output(option_interact, {'song1': song1, 'song2': song2, 'plot1': plot1, 'plot2': plot2, \n",
    "                                                  'length1': length1, 'length2': length2})\n",
    "display(out)"
   ]
  },
  {
   "cell_type": "code",
   "execution_count": null,
   "id": "empirical-graph",
   "metadata": {},
   "outputs": [],
   "source": []
  }
 ],
 "metadata": {
  "kernelspec": {
   "display_name": "Python 3",
   "language": "python",
   "name": "python3"
  },
  "language_info": {
   "codemirror_mode": {
    "name": "ipython",
    "version": 3
   },
   "file_extension": ".py",
   "mimetype": "text/x-python",
   "name": "python",
   "nbconvert_exporter": "python",
   "pygments_lexer": "ipython3",
   "version": "3.8.8"
  }
 },
 "nbformat": 4,
 "nbformat_minor": 5
}
