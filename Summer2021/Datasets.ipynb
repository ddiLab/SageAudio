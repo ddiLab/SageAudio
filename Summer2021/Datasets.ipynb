{
 "cells": [
  {
   "cell_type": "code",
   "execution_count": 1,
   "id": "musical-recycling",
   "metadata": {},
   "outputs": [],
   "source": [
    "import librosa\n",
    "import pandas as pd\n",
    "import numpy as np\n",
    "import os\n",
    "import pathlib\n",
    "import csv\n",
    "import ipywidgets as widgets\n",
    "from ipywidgets import interact, interactive, fixed, interact_manual\n",
    "import warnings\n",
    "warnings.filterwarnings('ignore')\n",
    "import utils\n",
    "import fma"
   ]
  },
  {
   "cell_type": "code",
   "execution_count": 2,
   "id": "measured-montana",
   "metadata": {},
   "outputs": [],
   "source": [
    "def build_dataset(tracks, electronic, experimental, folk, hiphop, instrumental, international, pop, rock):\n",
    "    # Read in genre counts\n",
    "    genre_counts = {\"Electronic\": electronic, \n",
    "                \"Experimental\": experimental,\n",
    "                \"Folk\": folk,\n",
    "                \"Hip-Hop\": hiphop,\n",
    "                \"Instrumental\": instrumental,\n",
    "                \"International\": international,\n",
    "                \"Pop\": pop,\n",
    "                \"Rock\": rock\n",
    "               }\n",
    "    \n",
    "    # Build list of tracks to delete\n",
    "    cnt = np.arange(7997)\n",
    "    indeces = tracks.index\n",
    "    delete_indeces = []\n",
    "    for i in cnt:\n",
    "        track = tracks.iloc[i, :]\n",
    "        genre = track[\"genre_top\"]\n",
    "        if genre_counts[genre] > 0:\n",
    "            genre_counts[genre] = genre_counts[genre] - 1\n",
    "        else:\n",
    "            delete_indeces.append(i)\n",
    "            \n",
    "    # Build trimmed copy\n",
    "    indeces = indeces.delete(delete_indeces)\n",
    "    new_tracks = tracks.loc[indeces, :]\n",
    "    genre_check(new_tracks)\n",
    "    return new_tracks"
   ]
  },
  {
   "cell_type": "code",
   "execution_count": 3,
   "id": "brazilian-brass",
   "metadata": {},
   "outputs": [],
   "source": [
    "def extract_features(tracks, new_tracks, features, chroma, rmse, spectral_centroid, spectral_bandwith, spectral_rolloff, zero_crossing_rate, mfcc):\n",
    "    mask = np.array([True, True, chroma, rmse, spectral_centroid, spectral_bandwith, spectral_rolloff, zero_crossing_rate], dtype=bool)\n",
    "\n",
    "    if mfcc:\n",
    "        mfcc_mask = np.ones(20, dtype=bool)\n",
    "    else:\n",
    "        mfcc_mask = np.zeros(20, dtype=bool)\n",
    "        \n",
    "    mask = np.concatenate((mask, mfcc_mask))\n",
    "    new_features = features.set_index(tracks.index)\n",
    "    new_features = new_features.loc[new_tracks.index, mask]\n",
    "    display(new_features)\n",
    "    return new_features"
   ]
  },
  {
   "cell_type": "code",
   "execution_count": 4,
   "id": "threatened-sphere",
   "metadata": {},
   "outputs": [],
   "source": [
    "def genre_check(data):\n",
    "    genres = [\"Electronic\", \"Experimental\", \"Folk\", \"Hip-Hop\", \"Instrumental\", \"International\", \"Pop\", \"Rock\"]\n",
    "    count = len(data)\n",
    "    print(f\"Total: {count}\")\n",
    "    \n",
    "    for i in genres:\n",
    "        count = len(data.loc[data[\"genre_top\"] == i, :])\n",
    "        print(f\"{i}: {count}\")"
   ]
  },
  {
   "cell_type": "code",
   "execution_count": 5,
   "id": "resident-sullivan",
   "metadata": {},
   "outputs": [],
   "source": [
    "def trim_data(tracks):\n",
    "    mask = np.ones(8000, dtype=bool)\n",
    "    d_mask = pd.Series(mask, index=tracks.index)\n",
    "    d_mask[99134] = False\n",
    "    d_mask[108925] = False\n",
    "    d_mask[133297] = False\n",
    "    return tracks[d_mask]"
   ]
  },
  {
   "cell_type": "code",
   "execution_count": 6,
   "id": "several-fitness",
   "metadata": {},
   "outputs": [],
   "source": [
    "def prep_features(features):\n",
    "    labels = features[\"label\"]\n",
    "    features = features.drop(\"label\", axis=1)\n",
    "    return features.insert(1, \"labels\", labels)"
   ]
  },
  {
   "cell_type": "code",
   "execution_count": 7,
   "id": "magnetic-notion",
   "metadata": {},
   "outputs": [],
   "source": [
    "# Load data\n",
    "full = fma.load('fma/tracks.csv')\n",
    "small = full[full['set', 'subset'] <= 'small']\n",
    "artists = small['artist']\n",
    "tracks = small['track']\n",
    "trim_tracks = trim_data(tracks)\n",
    "\n",
    "features = pd.read_csv('fma/fma_small_features.csv')\n",
    "features = prep_features(features)"
   ]
  },
  {
   "cell_type": "code",
   "execution_count": 8,
   "id": "choice-domestic",
   "metadata": {},
   "outputs": [
    {
     "data": {
      "application/vnd.jupyter.widget-view+json": {
       "model_id": "cc12026220534e61bc72dcf7fbb7b6eb",
       "version_major": 2,
       "version_minor": 0
      },
      "text/plain": [
       "interactive(children=(IntSlider(value=0, description='electronic', max=999), IntSlider(value=0, description='e…"
      ]
     },
     "metadata": {},
     "output_type": "display_data"
    }
   ],
   "source": [
    "w = interactive(build_dataset, {'manual': True}, tracks=fixed(trim_tracks),\n",
    "                electronic=widgets.IntSlider(min=0, max=999),\n",
    "                experimental=widgets.IntSlider(min=0, max=999),\n",
    "                folk=widgets.IntSlider(min=0, max=1000),\n",
    "                hiphop=widgets.IntSlider(min=0, max=1000),\n",
    "                instrumental=widgets.IntSlider(min=0, max=1000),\n",
    "                international=widgets.IntSlider(min=0, max=1000),\n",
    "                pop=widgets.IntSlider(min=0, max=1000),\n",
    "                rock=widgets.IntSlider(min=0, max=999));\n",
    "w.children[8].description=\"Build dataset\"\n",
    "display(w)"
   ]
  },
  {
   "cell_type": "code",
   "execution_count": 11,
   "id": "blond-education",
   "metadata": {},
   "outputs": [
    {
     "data": {
      "application/vnd.jupyter.widget-view+json": {
       "model_id": "2c0dd31f7bf94c09bd58931e6d7d6a70",
       "version_major": 2,
       "version_minor": 0
      },
      "text/plain": [
       "interactive(children=(Checkbox(value=False, description='chroma'), Checkbox(value=False, description='rmse'), …"
      ]
     },
     "metadata": {},
     "output_type": "display_data"
    }
   ],
   "source": [
    "z = interactive(extract_features, {'manual': True},\n",
    "                tracks=fixed(trim_tracks), new_tracks=fixed(w.result),\n",
    "                features=fixed(features),\n",
    "                chroma=False,\n",
    "                rmse=False,\n",
    "                spectral_centroid=False,\n",
    "                spectral_bandwith=False,\n",
    "                spectral_rolloff=False,\n",
    "                zero_crossing_rate=False,\n",
    "                mfcc=False);\n",
    "z.children[7].description=\"Extract features\"\n",
    "display(z)"
   ]
  },
  {
   "cell_type": "code",
   "execution_count": null,
   "id": "empty-programmer",
   "metadata": {},
   "outputs": [],
   "source": []
  }
 ],
 "metadata": {
  "kernelspec": {
   "display_name": "Python 3",
   "language": "python",
   "name": "python3"
  },
  "language_info": {
   "codemirror_mode": {
    "name": "ipython",
    "version": 3
   },
   "file_extension": ".py",
   "mimetype": "text/x-python",
   "name": "python",
   "nbconvert_exporter": "python",
   "pygments_lexer": "ipython3",
   "version": "3.8.8"
  }
 },
 "nbformat": 4,
 "nbformat_minor": 5
}
