{
 "cells": [
  {
   "cell_type": "markdown",
   "id": "cbb4272e",
   "metadata": {},
   "source": [
    "# Audio_Visualizer.ipynb"
   ]
  },
  {
   "cell_type": "code",
   "execution_count": 20,
   "id": "missing-florist",
   "metadata": {},
   "outputs": [],
   "source": [
    "import numpy as np\n",
    "import pandas as pd\n",
    "import matplotlib.pyplot as plt\n",
    "import ipywidgets as widgets\n",
    "from ipywidgets import interact, interactive, fixed, interact_manual\n",
    "import IPython.display as ipy\n",
    "import os\n",
    "import pathlib\n",
    "import librosa\n",
    "from librosa import display"
   ]
  },
  {
   "cell_type": "code",
   "execution_count": null,
   "id": "executive-survival",
   "metadata": {},
   "outputs": [],
   "source": [
    "def format_artist(artist):\n",
    "    return (artist[2:-2].replace(\"\\'\", \"\")).title()"
   ]
  },
  {
   "cell_type": "code",
   "execution_count": null,
   "id": "terminal-asian",
   "metadata": {},
   "outputs": [],
   "source": [
    "def select_artist(artists, results):\n",
    "    artistnames = np.empty_like(artists, dtype=tuple)\n",
    "    cnt = 0\n",
    "    for i in artists:\n",
    "        artistnames[cnt] = (format_artist(i), cnt)\n",
    "        cnt += 1\n",
    "    \n",
    "    interact(plot_song, results=fixed(results), Artist=artistnames);"
   ]
  },
  {
   "cell_type": "code",
   "execution_count": null,
   "id": "visible-flesh",
   "metadata": {},
   "outputs": [],
   "source": [
    "def plot_song(results, Artist):\n",
    "    fig, ax = plt.subplots()\n",
    "\n",
    "    stats = ('Danceability', 'Energy', 'Speechiness', 'Acousticness', 'Instrumentalness', 'Liveness', 'Valence')\n",
    "    values = results.loc[:, ['danceability', 'energy', 'speechiness', 'acousticness', 'instrumentalness', 'liveness', 'valence']]\n",
    "    values = values.iloc[Artist]\n",
    "    titlestring = \"\\\"\" + (results.iloc[Artist, 1]).title() + \"\\\" by \" + ((results.iloc[Artist, 5])[2:-2].replace(\"\\'\", \"\")).title()\n",
    "\n",
    "    ax.barh(stats, values)\n",
    "    ax.invert_yaxis()\n",
    "    ax.set_xlabel('Values')\n",
    "    ax.set_xlim(left=0.0, right=1.0)\n",
    "    ax.set_title(titlestring)\n",
    "\n",
    "    plt.show()"
   ]
  },
  {
   "cell_type": "code",
   "execution_count": null,
   "id": "stuck-former",
   "metadata": {},
   "outputs": [],
   "source": [
    "# Query functions\n",
    "def submit_query(param):\n",
    "    ipy.clear_output()\n",
    "    display(songinput)\n",
    "    display(button)\n",
    "    process_query(songinput.value)\n",
    "\n",
    "def process_query(query):\n",
    "    # Lower input\n",
    "    name = query.lower()\n",
    "\n",
    "    # Lower track names\n",
    "    lowernames = tracks[\"name\"]\n",
    "    lowernames = lowernames.str.lower()\n",
    "    tracks[\"name\"] = lowernames\n",
    "\n",
    "    # Lower artist names\n",
    "    lowerartists = tracks[\"artists\"]\n",
    "    lowerartists = lowerartists.str.lower()\n",
    "    tracks[\"artists\"] = lowerartists\n",
    "\n",
    "    # Search query\n",
    "    songresults = tracks[tracks[\"name\"] == name]\n",
    "    artistlist = songresults[\"artists\"]\n",
    "\n",
    "    # Check artist count\n",
    "    if len(songresults[\"artists\"]) > 1:\n",
    "        print(\"Multiple results found. Select an artist:\")\n",
    "        select_artist(artistlist, songresults)\n",
    "    elif len(songresults[\"artists\"]) < 1:\n",
    "        print(\"No results found.\")\n",
    "    else: \n",
    "        plot_song(songresults, 0)"
   ]
  },
  {
   "cell_type": "code",
   "execution_count": null,
   "id": "quiet-sense",
   "metadata": {},
   "outputs": [],
   "source": [
    "# Query widgets\n",
    "songinput = widgets.Text(\n",
    "    description='Song title:',\n",
    "    disabled=False\n",
    ")\n",
    "\n",
    "button = widgets.Button(\n",
    "    description='Search',\n",
    "    disabled=False,\n",
    "    tooltip='Search',\n",
    ")"
   ]
  },
  {
   "cell_type": "code",
   "execution_count": null,
   "id": "ranging-background",
   "metadata": {},
   "outputs": [],
   "source": [
    "# Open data\n",
    "tracks = pd.read_csv(\"data/tracks.csv\")"
   ]
  },
  {
   "cell_type": "code",
   "execution_count": null,
   "id": "irish-tract",
   "metadata": {},
   "outputs": [],
   "source": [
    "display(songinput, button)\n",
    "button.on_click(submit_query)"
   ]
  },
  {
   "cell_type": "code",
   "execution_count": 17,
   "id": "a7f70ed5",
   "metadata": {},
   "outputs": [],
   "source": [
    "# Establish input directory\n",
    "input_dir = pathlib.Path('songs')\n",
    "if not input_dir.exists():\n",
    "    os.mkdir('songs')\n",
    "    \n",
    "# Search directory and make libraries\n",
    "input_content = os.listdir(input_dir)\n",
    "song_waves = np.empty_like(input_content, dtype=np.ndarray)\n",
    "song_names = np.empty_like(input_content)\n",
    "\n",
    "cnt = 0\n",
    "for i in input_content:\n",
    "    song_waves[cnt], sr = librosa.load(f'songs/{i}')\n",
    "    song_names[cnt] = i[:-4]\n",
    "    cnt += 1"
   ]
  },
  {
   "cell_type": "code",
   "execution_count": 18,
   "id": "maritime-provincial",
   "metadata": {},
   "outputs": [
    {
     "name": "stdout",
     "output_type": "stream",
     "text": [
      "000002\n",
      "000005\n",
      "000010\n",
      "000140\n",
      "000141\n",
      "000148\n",
      "000182\n",
      "000190\n",
      "000193\n",
      "000194\n",
      "<class 'numpy.ndarray'>\n",
      "<class 'numpy.ndarray'>\n",
      "<class 'numpy.ndarray'>\n",
      "<class 'numpy.ndarray'>\n",
      "<class 'numpy.ndarray'>\n",
      "<class 'numpy.ndarray'>\n",
      "<class 'numpy.ndarray'>\n",
      "<class 'numpy.ndarray'>\n",
      "<class 'numpy.ndarray'>\n",
      "<class 'numpy.ndarray'>\n"
     ]
    }
   ],
   "source": [
    "for i in song_names:\n",
    "    print(i)\n",
    "    \n",
    "for j in song_waves:\n",
    "    print(type(j))\n"
   ]
  },
  {
   "cell_type": "code",
   "execution_count": 24,
   "id": "innocent-developer",
   "metadata": {},
   "outputs": [
    {
     "data": {
      "text/plain": [
       "<matplotlib.collections.PolyCollection at 0x17b722d0760>"
      ]
     },
     "execution_count": 24,
     "metadata": {},
     "output_type": "execute_result"
    },
    {
     "data": {
      "image/png": "[encoded data removed]",
      "text/plain": [
       "<Figure size 432x288 with 1 Axes>"
      ]
     },
     "metadata": {
      "needs_background": "light"
     },
     "output_type": "display_data"
    }
   ],
   "source": [
    "librosa.display.waveplot(song_waves[0])"
   ]
  },
  {
   "cell_type": "code",
   "execution_count": 27,
   "id": "obvious-globe",
   "metadata": {},
   "outputs": [
    {
     "data": {
      "application/vnd.jupyter.widget-view+json": {
       "model_id": "4b3a2c276c844cdf8a9f0638d49a637f",
       "version_major": 2,
       "version_minor": 0
      },
      "text/plain": [
       "interactive(children=(IntSlider(value=5, description='index', max=10), Output()), _dom_classes=('widget-intera…"
      ]
     },
     "metadata": {},
     "output_type": "display_data"
    },
    {
     "data": {
      "text/plain": [
       "<function __main__.interactive_plot(index)>"
      ]
     },
     "execution_count": 27,
     "metadata": {},
     "output_type": "execute_result"
    }
   ],
   "source": [
    "def interactive_plot(index):\n",
    "    librosa.display.waveplot(song_waves[index])\n",
    "    \n",
    "interact(interactive_plot, index=(0,10))"
   ]
  },
  {
   "cell_type": "code",
   "execution_count": null,
   "id": "hydraulic-president",
   "metadata": {},
   "outputs": [],
   "source": []
  }
 ],
 "metadata": {
  "kernelspec": {
   "display_name": "Python 3",
   "language": "python",
   "name": "python3"
  },
  "language_info": {
   "codemirror_mode": {
    "name": "ipython",
    "version": 3
   },
   "file_extension": ".py",
   "mimetype": "text/x-python",
   "name": "python",
   "nbconvert_exporter": "python",
   "pygments_lexer": "ipython3",
   "version": "3.8.8"
  }
 },
 "nbformat": 4,
 "nbformat_minor": 5
}
