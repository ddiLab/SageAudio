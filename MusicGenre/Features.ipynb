{
 "cells": [
  {
   "cell_type": "markdown",
   "id": "bf717e77",
   "metadata": {},
   "source": [
    "# Extracting Audios Features for Genre Classification\n",
    "\n",
    "In this notebook, we take the `fma_small` subset of the larger music dataset made available by FMA and extract audio features so that we may build a model for classifying music genres (see `Genres.ipynb` for more on that).\n",
    "\n",
    "Sources:\n",
    "- [FMA: A Dataset For Music Analysis](https://github.com/mdeff/fma) by Michaël Defferrard, et. al. Provides the dataset used in this notebook.\n",
    "- [Audio Data Analysis Using Deep Learning with Python](https://www.kdnuggets.com/2020/02/audio-data-analysis-deep-learning-python-part-1.html), by Nagesh Singh Chauhan courtesy of KDnuggets. This notebook is written using the same basic concepts and implementation presented in this article."
   ]
  },
  {
   "cell_type": "code",
   "execution_count": null,
   "id": "aa252a6b",
   "metadata": {},
   "outputs": [],
   "source": [
    "import librosa\n",
    "import pandas as pd\n",
    "import numpy as np\n",
    "import os\n",
    "import pathlib\n",
    "import csv\n",
    "import warnings\n",
    "warnings.filterwarnings('ignore')\n",
    "import utils"
   ]
  },
  {
   "cell_type": "markdown",
   "id": "4c07232e",
   "metadata": {},
   "source": [
    "First, we need to get ahold of the dataset we'll be using. Info and files for the dataset can be found [here](https://github.com/mdeff/fma). In particular, we'll be utilizing the `fma_small` dataset, as well a metadata CSV, `tracks.csv`.\n",
    "\n",
    "Before we can extract features, we have some preprocessing to do. First, we build the header for our csv file where we'll be extracting our features into. Then, we load the metadata for the MFA dataset and extract the metadata only for the small subset."
   ]
  },
  {
   "cell_type": "code",
   "execution_count": null,
   "id": "36e8c026",
   "metadata": {},
   "outputs": [],
   "source": [
    "header = 'filename chroma_stft rmse spectral_centroid spectral_bandwidth rolloff zero_crossing_rate'\n",
    "for i in range(1, 21):\n",
    "    header += f' mfcc{i}'\n",
    "header += ' label'\n",
    "header = header.split()\n",
    "\n",
    "# Load track metadata\n",
    "tracks = utils.load('tracks.csv')\n",
    "tracks = tracks[tracks['set', 'subset'] <= 'small']\n",
    "tracks = tracks['track']"
   ]
  },
  {
   "cell_type": "markdown",
   "id": "0b935e66",
   "metadata": {},
   "source": [
    "Now we can extract our features. In particular, we'll be extracting the following features:\n",
    "- Chroma\n",
    "- Spectral centroid\n",
    "- Spectral bandwith\n",
    "- Spectral rolloff\n",
    "- Zero crossing rate\n",
    "- Mel-frequency cepstral coefficients (MFCCs)  \n",
    "\n",
    "Each of these features are extracted as means calculated across the source audio files. For the MFCCs, we actually collect 20 different means. For more information on what all these features are, take a look at the [article](https://www.kdnuggets.com/2020/02/audio-data-analysis-deep-learning-python-part-1.html) this notebook is based on.\n",
    "\n",
    "We will use the Librosa library to iterate through each audio file in the dataset and extract the desired features. Using the metadata CSV we loaded earlier, we append to our CSV the appropriate genre label for each audio file as well. \n",
    "\n",
    "Running this may take some time; when I ran it, I had to lead my machine running overnight. To sidestep the length running process, you can download the final CSV of extracted features here. Additionally, some files in the dataset don't load properly, so we have a basic error handler set up so we can ignore any problem files."
   ]
  },
  {
   "cell_type": "code",
   "execution_count": null,
   "id": "1dc48018",
   "metadata": {},
   "outputs": [],
   "source": [
    "file = open('fma_small.csv', 'w', newline='')\n",
    "with file:\n",
    "    writer = csv.writer(file)\n",
    "    writer.writerow(header)\n",
    "#genres = 'blues classical country disco hiphop jazz metal pop reggae rock'.split()\n",
    "for folder in os.listdir('./fma_small/'):\n",
    "    for filename in os.listdir(f'./fma_small/{folder}'):\n",
    "        # Load file and extract features w/ Librosa\n",
    "        songname = f'./fma_small/{folder}/{filename}'\n",
    "        try:\n",
    "            y, sr = librosa.load(songname, mono=True, duration=30)\n",
    "        except:\n",
    "            print(f'failed loading {filename}')\n",
    "        else:\n",
    "            rmse = librosa.feature.rms(y=y)\n",
    "            chroma_stft = librosa.feature.chroma_stft(y=y, sr=sr)\n",
    "            spec_cent = librosa.feature.spectral_centroid(y=y, sr=sr)\n",
    "            spec_bw = librosa.feature.spectral_bandwidth(y=y, sr=sr)\n",
    "            rolloff = librosa.feature.spectral_rolloff(y=y, sr=sr)\n",
    "            zcr = librosa.feature.zero_crossing_rate(y)\n",
    "            mfcc = librosa.feature.mfcc(y=y, sr=sr)\n",
    "        \n",
    "            # Add features to dataset.csv\n",
    "            to_append = f'{filename} {np.mean(chroma_stft)} {np.mean(rmse)} {np.mean(spec_cent)} {np.mean(spec_bw)} {np.mean(rolloff)} {np.mean(zcr)}'    \n",
    "            for e in mfcc:\n",
    "                to_append += f' {np.mean(e)}'\n",
    "        \n",
    "            # Find and add genre label\n",
    "            genre = tracks.loc[int(filename.lstrip('0')[:-4]), 'genre_top']\n",
    "            to_append += f' {genre}'\n",
    "        \n",
    "            # Write to file\n",
    "            file = open('fma_small.csv', 'a', newline='')\n",
    "            with file:\n",
    "                writer = csv.writer(file)\n",
    "                writer.writerow(to_append.split())"
   ]
  },
  {
   "cell_type": "markdown",
   "id": "d5b1f63b",
   "metadata": {},
   "source": [
    "Now that the lengthy feature extraction progress has finished, let's check the CSV to verify our results:"
   ]
  },
  {
   "cell_type": "code",
   "execution_count": null,
   "id": "4f8f2e5e",
   "metadata": {},
   "outputs": [],
   "source": [
    "data = pd.read_csv('fma_small.csv') # Loading data to manipulate for our purposes\n",
    "data.head()"
   ]
  }
 ],
 "metadata": {
  "kernelspec": {
   "display_name": "Python 3",
   "language": "python",
   "name": "python3"
  },
  "language_info": {
   "codemirror_mode": {
    "name": "ipython",
    "version": 3
   },
   "file_extension": ".py",
   "mimetype": "text/x-python",
   "name": "python",
   "nbconvert_exporter": "python",
   "pygments_lexer": "ipython3",
   "version": "3.8.8"
  }
 },
 "nbformat": 4,
 "nbformat_minor": 5
}
