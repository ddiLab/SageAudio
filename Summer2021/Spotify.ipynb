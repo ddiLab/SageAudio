{
 "cells": [
  {
   "cell_type": "markdown",
   "id": "cbb4272e",
   "metadata": {},
   "source": [
    "# Spotify\n",
    "\n",
    "In this notebook, you will be exploring some of the ways Spotify categorizes songs by searching Spotify's music database and comparing the stats of different songs.\n",
    "\n",
    "For each song, Spotify tracks a number of different statistics that describe different aspects of the song's sound and mood. For example, stats like Acousticness, Energy, and Instrumentalness might have more to do with the way the song sounds, while stats like Danceability, Liveness, and Valence might have more to do with the way the song feels.\n",
    "\n",
    "How might two songs from the same genre compare in terms of these stats? What about two songs from different genres? Using this notebook, you can look up a song to see how it scores on each stat, or you can look up two songs at once to directly compare their scores.\n",
    "\n",
    "To use this notebook, first run the cell below. It loads the functions necessary to search and compare songs, as well as the dataset we'll be searching."
   ]
  },
  {
   "cell_type": "code",
   "execution_count": null,
   "id": "missing-florist",
   "metadata": {},
   "outputs": [],
   "source": [
    "from utils import spotify as sp\n",
    "tracks = sp.get_tracks(\"data/spotify.csv\")"
   ]
  },
  {
   "cell_type": "markdown",
   "id": "07fa1a8b",
   "metadata": {},
   "source": [
    "Once you've loaded the dataset, run the cell below to begin searching. When searching for a song, you must type in the exact name of the song you're looking for (though it is not case sensitive). If the search was successful, then the notebook will display a graph showing the scores of the song(s) you searched for. If there were multiple results for the song you searched for, a dropdown box will appear that will let you select which artist you are looking for.\n",
    "\n",
    "**Note**: While the dataset we're using is fairly large (600,000 songs), it is still only a subset of Spotify's entire music library - if you're having trouble finding a particular song, it may not be included in the dataset. Songs that are reasonably popular and not extremely recent are more likely to be available."
   ]
  },
  {
   "cell_type": "code",
   "execution_count": null,
   "id": "quiet-sense",
   "metadata": {
    "scrolled": false
   },
   "outputs": [],
   "source": [
    "sp.interface(tracks)"
   ]
  }
 ],
 "metadata": {
  "kernelspec": {
   "display_name": "Python 3",
   "language": "python",
   "name": "python3"
  },
  "language_info": {
   "codemirror_mode": {
    "name": "ipython",
    "version": 3
   },
   "file_extension": ".py",
   "mimetype": "text/x-python",
   "name": "python",
   "nbconvert_exporter": "python",
   "pygments_lexer": "ipython3",
   "version": "3.9.6"
  }
 },
 "nbformat": 4,
 "nbformat_minor": 5
}
