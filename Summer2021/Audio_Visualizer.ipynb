{
 "cells": [
  {
   "cell_type": "markdown",
   "id": "cbb4272e",
   "metadata": {},
   "source": [
    "# Audio Visualizer"
   ]
  },
  {
   "cell_type": "code",
   "execution_count": 1,
   "id": "a7f70ed5",
   "metadata": {},
   "outputs": [],
   "source": [
    "from utils import audio_visualizer as av\n",
    "songs = av.find_songs('data/songs')"
   ]
  },
  {
   "cell_type": "code",
   "execution_count": 2,
   "id": "relevant-promise",
   "metadata": {
    "scrolled": false
   },
   "outputs": [
    {
     "data": {
      "application/vnd.jupyter.widget-view+json": {
       "model_id": "16d435bdb18d4b21bf728633215201ef",
       "version_major": 2,
       "version_minor": 0
      },
      "text/plain": [
       "HBox(children=(Dropdown(description='Songs: ', options=(('000002', 0), ('000005', 1), ('000010', 2), ('000140'…"
      ]
     },
     "metadata": {},
     "output_type": "display_data"
    },
    {
     "data": {
      "application/vnd.jupyter.widget-view+json": {
       "model_id": "29bca1be61e94672ba5aafaa680ec8fb",
       "version_major": 2,
       "version_minor": 0
      },
      "text/plain": [
       "HBox(children=(Dropdown(description='Plots: ', options=('Wave', 'Spectrum', 'Spectrogram'), value='Wave'), Dro…"
      ]
     },
     "metadata": {},
     "output_type": "display_data"
    },
    {
     "data": {
      "application/vnd.jupyter.widget-view+json": {
       "model_id": "50bfaf748b2c4fefa8a088e12b455160",
       "version_major": 2,
       "version_minor": 0
      },
      "text/plain": [
       "HBox(children=(Dropdown(description='Length: ', options=('Full song', '30 seconds', '5 seconds', '50 milliseco…"
      ]
     },
     "metadata": {},
     "output_type": "display_data"
    },
    {
     "data": {
      "application/vnd.jupyter.widget-view+json": {
       "model_id": "492d1e377e0a41cca0efa6e6ce4450ca",
       "version_major": 2,
       "version_minor": 0
      },
      "text/plain": [
       "Output()"
      ]
     },
     "metadata": {},
     "output_type": "display_data"
    }
   ],
   "source": [
    "av.visualizer_display(*songs)"
   ]
  },
  {
   "cell_type": "code",
   "execution_count": null,
   "id": "empirical-graph",
   "metadata": {},
   "outputs": [],
   "source": []
  }
 ],
 "metadata": {
  "kernelspec": {
   "display_name": "Python 3",
   "language": "python",
   "name": "python3"
  },
  "language_info": {
   "codemirror_mode": {
    "name": "ipython",
    "version": 3
   },
   "file_extension": ".py",
   "mimetype": "text/x-python",
   "name": "python",
   "nbconvert_exporter": "python",
   "pygments_lexer": "ipython3",
   "version": "3.8.8"
  }
 },
 "nbformat": 4,
 "nbformat_minor": 5
}
