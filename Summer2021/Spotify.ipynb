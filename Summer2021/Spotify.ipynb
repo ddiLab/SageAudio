{
 "cells": [
  {
   "cell_type": "markdown",
   "id": "cbb4272e",
   "metadata": {},
   "source": [
    "# Spotify.ipynb\n",
    "\n",
    "This notebook allows the user to search a portion of Spotify's database for a given song and see how Spotify defines various features for the song.\n",
    "\n",
    "To use, run each cell, then utilize the widgets that the last cell displays to search for songs.\n",
    "\n",
    "Future tasks:\n",
    "- Document code\n",
    "- Abstract functions away, probably in some sort of utils.py file\n",
    "- Some ways to improve the search feature - more lenient search, search by artist, plot two songs together to compare, etc."
   ]
  },
  {
   "cell_type": "code",
   "execution_count": 1,
   "id": "missing-florist",
   "metadata": {},
   "outputs": [],
   "source": [
    "import numpy as np\n",
    "import pandas as pd\n",
    "import matplotlib.pyplot as plt\n",
    "import ipywidgets as widgets\n",
    "from ipywidgets import interact, interactive, fixed, interact_manual\n",
    "import IPython.display as ipy\n",
    "import utils\n",
    "\n",
    "# Open data\n",
    "tracks = pd.read_csv(\"data/tracks.csv\")"
   ]
  },
  {
   "cell_type": "code",
   "execution_count": 2,
   "id": "quiet-sense",
   "metadata": {},
   "outputs": [
    {
     "data": {
      "application/vnd.jupyter.widget-view+json": {
       "model_id": "2d3df4d09b604b58bfea1b20b234e721",
       "version_major": 2,
       "version_minor": 0
      },
      "text/plain": [
       "interactive(children=(Text(value='', description='Song 1:'), Text(value='', description='Song 2:', placeholder…"
      ]
     },
     "metadata": {},
     "output_type": "display_data"
    }
   ],
   "source": [
    "utils.spotify_display(tracks)"
   ]
  },
  {
   "cell_type": "code",
   "execution_count": null,
   "id": "informed-flashing",
   "metadata": {},
   "outputs": [],
   "source": []
  }
 ],
 "metadata": {
  "kernelspec": {
   "display_name": "Python 3",
   "language": "python",
   "name": "python3"
  },
  "language_info": {
   "codemirror_mode": {
    "name": "ipython",
    "version": 3
   },
   "file_extension": ".py",
   "mimetype": "text/x-python",
   "name": "python",
   "nbconvert_exporter": "python",
   "pygments_lexer": "ipython3",
   "version": "3.8.8"
  }
 },
 "nbformat": 4,
 "nbformat_minor": 5
}
