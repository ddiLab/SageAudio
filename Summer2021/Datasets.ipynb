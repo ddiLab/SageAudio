{
 "cells": [
  {
   "cell_type": "code",
   "execution_count": 1,
   "id": "pointed-foundation",
   "metadata": {},
   "outputs": [],
   "source": [
    "from utils import datasets as ds\n",
    "\n",
    "artists, tracks, trim_tracks = ds.load_tracks_and_artists()\n",
    "features = ds.load_features(trim_tracks)"
   ]
  },
  {
   "cell_type": "code",
   "execution_count": 2,
   "id": "completed-marina",
   "metadata": {},
   "outputs": [
    {
     "data": {
      "application/vnd.jupyter.widget-view+json": {
       "model_id": "6156468b17d54295bb32c44b43a2526c",
       "version_major": 2,
       "version_minor": 0
      },
      "text/plain": [
       "interactive(children=(IntSlider(value=0, description='electronic', max=999), IntSlider(value=0, description='e…"
      ]
     },
     "metadata": {},
     "output_type": "display_data"
    }
   ],
   "source": [
    "data = ds.display_dataset(trim_tracks)"
   ]
  },
  {
   "cell_type": "code",
   "execution_count": 3,
   "id": "paperback-awareness",
   "metadata": {},
   "outputs": [
    {
     "data": {
      "application/vnd.jupyter.widget-view+json": {
       "model_id": "47a2f5fb848542cebc18f5f248539890",
       "version_major": 2,
       "version_minor": 0
      },
      "text/plain": [
       "interactive(children=(Checkbox(value=False, description='chroma'), Checkbox(value=False, description='rmse'), …"
      ]
     },
     "metadata": {},
     "output_type": "display_data"
    }
   ],
   "source": [
    "features = ds.display_features(trim_tracks, data.result, features)"
   ]
  },
  {
   "cell_type": "code",
   "execution_count": 4,
   "id": "remarkable-malpractice",
   "metadata": {},
   "outputs": [
    {
     "name": "stdout",
     "output_type": "stream",
     "text": [
      "Epoch 1/100\n",
      "50/50 [==============================] - 29s 4ms/step - loss: 1.8675 - accuracy: 0.2973\n",
      "Epoch 2/100\n",
      "50/50 [==============================] - 0s 4ms/step - loss: 1.5798 - accuracy: 0.4310\n",
      "Epoch 3/100\n",
      "50/50 [==============================] - 0s 4ms/step - loss: 1.5142 - accuracy: 0.4559\n",
      "Epoch 4/100\n",
      "50/50 [==============================] - 0s 4ms/step - loss: 1.4489 - accuracy: 0.4826\n",
      "Epoch 5/100\n",
      "50/50 [==============================] - 0s 4ms/step - loss: 1.4017 - accuracy: 0.4997\n",
      "Epoch 6/100\n",
      "50/50 [==============================] - 0s 4ms/step - loss: 1.3738 - accuracy: 0.5117\n",
      "Epoch 7/100\n",
      "50/50 [==============================] - 0s 4ms/step - loss: 1.3241 - accuracy: 0.5265\n",
      "Epoch 8/100\n",
      "50/50 [==============================] - 0s 4ms/step - loss: 1.2858 - accuracy: 0.5529\n",
      "Epoch 9/100\n",
      "50/50 [==============================] - 0s 4ms/step - loss: 1.2439 - accuracy: 0.5672\n",
      "Epoch 10/100\n",
      "50/50 [==============================] - 0s 4ms/step - loss: 1.2359 - accuracy: 0.5604\n",
      "Epoch 11/100\n",
      "50/50 [==============================] - 0s 4ms/step - loss: 1.1897 - accuracy: 0.5931\n",
      "Epoch 12/100\n",
      "50/50 [==============================] - 0s 4ms/step - loss: 1.1624 - accuracy: 0.5958\n",
      "Epoch 13/100\n",
      "50/50 [==============================] - 0s 4ms/step - loss: 1.1323 - accuracy: 0.6062\n",
      "Epoch 14/100\n",
      "50/50 [==============================] - 0s 4ms/step - loss: 1.0696 - accuracy: 0.6285\n",
      "Epoch 15/100\n",
      "50/50 [==============================] - 0s 4ms/step - loss: 1.0441 - accuracy: 0.6475\n",
      "Epoch 16/100\n",
      "50/50 [==============================] - 0s 4ms/step - loss: 1.0337 - accuracy: 0.6435\n",
      "Epoch 17/100\n",
      "50/50 [==============================] - 0s 4ms/step - loss: 1.0053 - accuracy: 0.6424\n",
      "Epoch 18/100\n",
      "50/50 [==============================] - 0s 4ms/step - loss: 0.9726 - accuracy: 0.6658\n",
      "Epoch 19/100\n",
      "50/50 [==============================] - 0s 4ms/step - loss: 0.9330 - accuracy: 0.6745\n",
      "Epoch 20/100\n",
      "50/50 [==============================] - 0s 4ms/step - loss: 0.9036 - accuracy: 0.6882\n",
      "Epoch 21/100\n",
      "50/50 [==============================] - 0s 4ms/step - loss: 0.9059 - accuracy: 0.6932\n",
      "Epoch 22/100\n",
      "50/50 [==============================] - 0s 4ms/step - loss: 0.8276 - accuracy: 0.7193\n",
      "Epoch 23/100\n",
      "50/50 [==============================] - 0s 4ms/step - loss: 0.8411 - accuracy: 0.7158\n",
      "Epoch 24/100\n",
      "50/50 [==============================] - 0s 4ms/step - loss: 0.7880 - accuracy: 0.7343\n",
      "Epoch 25/100\n",
      "50/50 [==============================] - 0s 4ms/step - loss: 0.7665 - accuracy: 0.7457\n",
      "Epoch 26/100\n",
      "50/50 [==============================] - 0s 4ms/step - loss: 0.7491 - accuracy: 0.7493\n",
      "Epoch 27/100\n",
      "50/50 [==============================] - 0s 4ms/step - loss: 0.7190 - accuracy: 0.7585\n",
      "Epoch 28/100\n",
      "50/50 [==============================] - 0s 4ms/step - loss: 0.7159 - accuracy: 0.7694\n",
      "Epoch 29/100\n",
      "50/50 [==============================] - 0s 4ms/step - loss: 0.6614 - accuracy: 0.7847\n",
      "Epoch 30/100\n",
      "50/50 [==============================] - 0s 4ms/step - loss: 0.6570 - accuracy: 0.7827\n",
      "Epoch 31/100\n",
      "50/50 [==============================] - 0s 4ms/step - loss: 0.6051 - accuracy: 0.8102\n",
      "Epoch 32/100\n",
      "50/50 [==============================] - 0s 4ms/step - loss: 0.5978 - accuracy: 0.8136\n",
      "Epoch 33/100\n",
      "50/50 [==============================] - 0s 4ms/step - loss: 0.5574 - accuracy: 0.8221\n",
      "Epoch 34/100\n",
      "50/50 [==============================] - 0s 4ms/step - loss: 0.5190 - accuracy: 0.8378\n",
      "Epoch 35/100\n",
      "50/50 [==============================] - 0s 4ms/step - loss: 0.5345 - accuracy: 0.8273\n",
      "Epoch 36/100\n",
      "50/50 [==============================] - 0s 4ms/step - loss: 0.5097 - accuracy: 0.8389\n",
      "Epoch 37/100\n",
      "50/50 [==============================] - 0s 4ms/step - loss: 0.4931 - accuracy: 0.8451\n",
      "Epoch 38/100\n",
      "50/50 [==============================] - 0s 4ms/step - loss: 0.4364 - accuracy: 0.8668\n",
      "Epoch 39/100\n",
      "50/50 [==============================] - 0s 4ms/step - loss: 0.4243 - accuracy: 0.8707\n",
      "Epoch 40/100\n",
      "50/50 [==============================] - 0s 4ms/step - loss: 0.4261 - accuracy: 0.8687\n",
      "Epoch 41/100\n",
      "50/50 [==============================] - 0s 4ms/step - loss: 0.3861 - accuracy: 0.8850\n",
      "Epoch 42/100\n",
      "50/50 [==============================] - 0s 4ms/step - loss: 0.3786 - accuracy: 0.8924\n",
      "Epoch 43/100\n",
      "50/50 [==============================] - 0s 4ms/step - loss: 0.3726 - accuracy: 0.8912\n",
      "Epoch 44/100\n",
      "50/50 [==============================] - 0s 4ms/step - loss: 0.3317 - accuracy: 0.9058\n",
      "Epoch 45/100\n",
      "50/50 [==============================] - 0s 4ms/step - loss: 0.3191 - accuracy: 0.9112\n",
      "Epoch 46/100\n",
      "50/50 [==============================] - 0s 4ms/step - loss: 0.3011 - accuracy: 0.9173\n",
      "Epoch 47/100\n",
      "50/50 [==============================] - 0s 4ms/step - loss: 0.3017 - accuracy: 0.9189\n",
      "Epoch 48/100\n",
      "50/50 [==============================] - 0s 4ms/step - loss: 0.2864 - accuracy: 0.9244\n",
      "Epoch 49/100\n",
      "50/50 [==============================] - 0s 4ms/step - loss: 0.2528 - accuracy: 0.9403\n",
      "Epoch 50/100\n",
      "50/50 [==============================] - 0s 4ms/step - loss: 0.2456 - accuracy: 0.9347\n",
      "Epoch 51/100\n",
      "50/50 [==============================] - 0s 4ms/step - loss: 0.2215 - accuracy: 0.9466\n",
      "Epoch 52/100\n",
      "50/50 [==============================] - 0s 4ms/step - loss: 0.2292 - accuracy: 0.9374\n",
      "Epoch 53/100\n",
      "50/50 [==============================] - 0s 4ms/step - loss: 0.2046 - accuracy: 0.9523\n",
      "Epoch 54/100\n",
      "50/50 [==============================] - 0s 4ms/step - loss: 0.1934 - accuracy: 0.9550\n",
      "Epoch 55/100\n",
      "50/50 [==============================] - 0s 4ms/step - loss: 0.1748 - accuracy: 0.9635\n",
      "Epoch 56/100\n",
      "50/50 [==============================] - 0s 4ms/step - loss: 0.1706 - accuracy: 0.9627\n",
      "Epoch 57/100\n",
      "50/50 [==============================] - 0s 4ms/step - loss: 0.1651 - accuracy: 0.9654\n",
      "Epoch 58/100\n",
      "50/50 [==============================] - 0s 4ms/step - loss: 0.1515 - accuracy: 0.9689\n",
      "Epoch 59/100\n",
      "50/50 [==============================] - 0s 4ms/step - loss: 0.1471 - accuracy: 0.9688\n",
      "Epoch 60/100\n",
      "50/50 [==============================] - 0s 4ms/step - loss: 0.1378 - accuracy: 0.9722\n",
      "Epoch 61/100\n",
      "50/50 [==============================] - 0s 4ms/step - loss: 0.1355 - accuracy: 0.9718\n",
      "Epoch 62/100\n",
      "50/50 [==============================] - 0s 4ms/step - loss: 0.1220 - accuracy: 0.9777\n",
      "Epoch 63/100\n",
      "50/50 [==============================] - 0s 4ms/step - loss: 0.1042 - accuracy: 0.9834\n",
      "Epoch 64/100\n",
      "50/50 [==============================] - 0s 4ms/step - loss: 0.0973 - accuracy: 0.9858\n",
      "Epoch 65/100\n",
      "50/50 [==============================] - 0s 4ms/step - loss: 0.0865 - accuracy: 0.9887\n",
      "Epoch 66/100\n",
      "50/50 [==============================] - 0s 4ms/step - loss: 0.1122 - accuracy: 0.9804\n",
      "Epoch 67/100\n",
      "50/50 [==============================] - 0s 4ms/step - loss: 0.0889 - accuracy: 0.9905\n",
      "Epoch 68/100\n",
      "50/50 [==============================] - 0s 4ms/step - loss: 0.0762 - accuracy: 0.9926\n",
      "Epoch 69/100\n",
      "50/50 [==============================] - 0s 4ms/step - loss: 0.0714 - accuracy: 0.9922\n",
      "Epoch 70/100\n",
      "50/50 [==============================] - 0s 4ms/step - loss: 0.0676 - accuracy: 0.9915\n",
      "Epoch 71/100\n",
      "50/50 [==============================] - 0s 4ms/step - loss: 0.0720 - accuracy: 0.9916\n",
      "Epoch 72/100\n",
      "50/50 [==============================] - 0s 4ms/step - loss: 0.0580 - accuracy: 0.9963\n",
      "Epoch 73/100\n",
      "50/50 [==============================] - 0s 4ms/step - loss: 0.0477 - accuracy: 0.9977\n",
      "Epoch 74/100\n",
      "50/50 [==============================] - 0s 4ms/step - loss: 0.0475 - accuracy: 0.9971\n",
      "Epoch 75/100\n",
      "50/50 [==============================] - 0s 4ms/step - loss: 0.0450 - accuracy: 0.9979\n",
      "Epoch 76/100\n",
      "50/50 [==============================] - 0s 4ms/step - loss: 0.0411 - accuracy: 0.9975\n",
      "Epoch 77/100\n",
      "50/50 [==============================] - 0s 4ms/step - loss: 0.0488 - accuracy: 0.9947\n",
      "Epoch 78/100\n",
      "50/50 [==============================] - 0s 4ms/step - loss: 0.0576 - accuracy: 0.9930\n",
      "Epoch 79/100\n",
      "50/50 [==============================] - 0s 4ms/step - loss: 0.1002 - accuracy: 0.9761\n",
      "Epoch 80/100\n",
      "50/50 [==============================] - 0s 4ms/step - loss: 0.1698 - accuracy: 0.9477\n",
      "Epoch 81/100\n",
      "50/50 [==============================] - 0s 4ms/step - loss: 0.1599 - accuracy: 0.9471: 0s - loss: 0.1634 - accuracy: 0.\n",
      "Epoch 82/100\n",
      "50/50 [==============================] - 0s 4ms/step - loss: 0.1080 - accuracy: 0.9687: 0s - loss: 0.1084 - accuracy: 0.\n",
      "Epoch 83/100\n",
      "50/50 [==============================] - 0s 4ms/step - loss: 0.0844 - accuracy: 0.9784\n",
      "Epoch 84/100\n",
      "50/50 [==============================] - 0s 4ms/step - loss: 0.0515 - accuracy: 0.9918\n",
      "Epoch 85/100\n",
      "50/50 [==============================] - 0s 4ms/step - loss: 0.0302 - accuracy: 0.9981\n",
      "Epoch 86/100\n",
      "50/50 [==============================] - 0s 4ms/step - loss: 0.0233 - accuracy: 0.9998\n",
      "Epoch 87/100\n",
      "50/50 [==============================] - 0s 4ms/step - loss: 0.0192 - accuracy: 0.9998\n",
      "Epoch 88/100\n",
      "50/50 [==============================] - 0s 4ms/step - loss: 0.0173 - accuracy: 0.9999\n",
      "Epoch 89/100\n",
      "50/50 [==============================] - 0s 4ms/step - loss: 0.0152 - accuracy: 1.0000\n",
      "Epoch 90/100\n",
      "50/50 [==============================] - 0s 4ms/step - loss: 0.0154 - accuracy: 1.0000\n",
      "Epoch 91/100\n",
      "50/50 [==============================] - 0s 4ms/step - loss: 0.0163 - accuracy: 1.0000\n",
      "Epoch 92/100\n",
      "50/50 [==============================] - 0s 4ms/step - loss: 0.0142 - accuracy: 1.0000\n",
      "Epoch 93/100\n",
      "50/50 [==============================] - 0s 4ms/step - loss: 0.0123 - accuracy: 1.0000\n",
      "Epoch 94/100\n",
      "50/50 [==============================] - 0s 4ms/step - loss: 0.0116 - accuracy: 1.0000\n",
      "Epoch 95/100\n",
      "50/50 [==============================] - 0s 4ms/step - loss: 0.0109 - accuracy: 1.0000\n",
      "Epoch 96/100\n",
      "50/50 [==============================] - 0s 4ms/step - loss: 0.0100 - accuracy: 1.0000\n",
      "Epoch 97/100\n",
      "50/50 [==============================] - 0s 4ms/step - loss: 0.0102 - accuracy: 1.0000\n",
      "Epoch 98/100\n",
      "50/50 [==============================] - 0s 4ms/step - loss: 0.0094 - accuracy: 1.0000\n",
      "Epoch 99/100\n",
      "50/50 [==============================] - 0s 4ms/step - loss: 0.0092 - accuracy: 1.0000\n",
      "Epoch 100/100\n",
      "50/50 [==============================] - 0s 4ms/step - loss: 0.0090 - accuracy: 1.0000\n"
     ]
    }
   ],
   "source": [
    "train_data, test_data = ds.preprocessing(features.result)\n",
    "model = ds.build_model(train_data)\n",
    "ds.train_model(model, train_data)"
   ]
  },
  {
   "cell_type": "code",
   "execution_count": 6,
   "id": "gorgeous-python",
   "metadata": {},
   "outputs": [
    {
     "name": "stdout",
     "output_type": "stream",
     "text": [
      "Results:\n",
      "50/50 - 1s - loss: 4.9239 - accuracy: 0.4381\n"
     ]
    }
   ],
   "source": [
    "ds.test_model(model, test_data)"
   ]
  },
  {
   "cell_type": "code",
   "execution_count": null,
   "id": "relative-faith",
   "metadata": {},
   "outputs": [],
   "source": []
  }
 ],
 "metadata": {
  "kernelspec": {
   "display_name": "Python 3",
   "language": "python",
   "name": "python3"
  },
  "language_info": {
   "codemirror_mode": {
    "name": "ipython",
    "version": 3
   },
   "file_extension": ".py",
   "mimetype": "text/x-python",
   "name": "python",
   "nbconvert_exporter": "python",
   "pygments_lexer": "ipython3",
   "version": "3.8.8"
  }
 },
 "nbformat": 4,
 "nbformat_minor": 5
}
