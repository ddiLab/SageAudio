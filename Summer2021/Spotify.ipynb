{
 "cells": [
  {
   "cell_type": "markdown",
   "id": "cbb4272e",
   "metadata": {},
   "source": [
    "# Spotify\n",
    "\n",
    "This notebook allows the user to search a portion of Spotify's database for a given song and see how Spotify defines various features for the song."
   ]
  },
  {
   "cell_type": "code",
   "execution_count": 1,
   "id": "missing-florist",
   "metadata": {},
   "outputs": [],
   "source": [
    "from utils import spotify as sp\n",
    "tracks = sp.get_tracks(\"data/spotify/tracks.csv\")"
   ]
  },
  {
   "cell_type": "code",
   "execution_count": 2,
   "id": "quiet-sense",
   "metadata": {
    "scrolled": false
   },
   "outputs": [
    {
     "data": {
      "application/vnd.jupyter.widget-view+json": {
       "model_id": "118bc72bf3134130a7c3af810b49ca50",
       "version_major": 2,
       "version_minor": 0
      },
      "text/plain": [
       "interactive(children=(Text(value='', description='Song 1:'), Text(value='', description='Song 2:', placeholder…"
      ]
     },
     "metadata": {},
     "output_type": "display_data"
    }
   ],
   "source": [
    "sp.interface(tracks)"
   ]
  },
  {
   "cell_type": "code",
   "execution_count": null,
   "id": "informed-flashing",
   "metadata": {},
   "outputs": [],
   "source": []
  }
 ],
 "metadata": {
  "kernelspec": {
   "display_name": "Python 3",
   "language": "python",
   "name": "python3"
  },
  "language_info": {
   "codemirror_mode": {
    "name": "ipython",
    "version": 3
   },
   "file_extension": ".py",
   "mimetype": "text/x-python",
   "name": "python",
   "nbconvert_exporter": "python",
   "pygments_lexer": "ipython3",
   "version": "3.8.8"
  }
 },
 "nbformat": 4,
 "nbformat_minor": 5
}
