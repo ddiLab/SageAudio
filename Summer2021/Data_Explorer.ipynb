{
 "cells": [
  {
   "cell_type": "markdown",
   "id": "criminal-amount",
   "metadata": {},
   "source": [
    "# Data Explorer"
   ]
  },
  {
   "cell_type": "code",
   "execution_count": 1,
   "id": "chubby-detroit",
   "metadata": {
    "scrolled": false
   },
   "outputs": [
    {
     "name": "stdout",
     "output_type": "stream",
     "text": [
      "Skipped checksums\n",
      "Skipped README.txt\n"
     ]
    }
   ],
   "source": [
    "from utils import data_explorer as de\n",
    "tracks, track_files, artists = de.load_tracks()"
   ]
  },
  {
   "cell_type": "code",
   "execution_count": 2,
   "id": "divided-worse",
   "metadata": {
    "scrolled": false
   },
   "outputs": [
    {
     "data": {
      "application/vnd.jupyter.widget-view+json": {
       "model_id": "5488bce053af42bebced72c8cf1fd6af",
       "version_major": 2,
       "version_minor": 0
      },
      "text/plain": [
       "interactive(children=(Button(description='Run Interact', style=ButtonStyle()), Output()), _dom_classes=('widge…"
      ]
     },
     "metadata": {},
     "output_type": "display_data"
    }
   ],
   "source": [
    "# Run interact\n",
    "de.interface(tracks, track_files, artists)"
   ]
  },
  {
   "cell_type": "code",
   "execution_count": null,
   "id": "stretch-period",
   "metadata": {},
   "outputs": [],
   "source": []
  }
 ],
 "metadata": {
  "kernelspec": {
   "display_name": "Python 3",
   "language": "python",
   "name": "python3"
  },
  "language_info": {
   "codemirror_mode": {
    "name": "ipython",
    "version": 3
   },
   "file_extension": ".py",
   "mimetype": "text/x-python",
   "name": "python",
   "nbconvert_exporter": "python",
   "pygments_lexer": "ipython3",
   "version": "3.8.8"
  }
 },
 "nbformat": 4,
 "nbformat_minor": 5
}
